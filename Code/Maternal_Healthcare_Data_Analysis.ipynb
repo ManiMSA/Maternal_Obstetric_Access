{
 "cells": [
  {
   "cell_type": "code",
   "execution_count": 8,
   "id": "aa315cb7",
   "metadata": {},
   "outputs": [],
   "source": [
    "import pandas as pd\n",
    "import numpy as np\n",
    "import matplotlib.pyplot as plt\n",
    "import geopandas as gpd\n"
   ]
  },
  {
   "cell_type": "markdown",
   "id": "07cfe5d8",
   "metadata": {},
   "source": [
    "### Read the input files\n",
    "#### shape file, hosp dist matrix, hospital coordinates data, block group age, racial and poverty statistics\n",
    "\n"
   ]
  },
  {
   "cell_type": "code",
   "execution_count": 66,
   "id": "6edd453d",
   "metadata": {},
   "outputs": [
    {
     "name": "stderr",
     "output_type": "stream",
     "text": [
      "<ipython-input-66-e4e2c47231da>:7: DtypeWarning: Columns (2,3,4,5,6,7,8,9,10,11,12,13,14,15,16,17,18,19,20,21,22,23,24,25,26,27,28,29,30,31,32,33,34,35,36,37,38,39,40,41,42,43,44,45,46,47,48,49,50,51,52,53,54,55,56,57,58,59,60,61,62,63,64,65,66,67,68,69,70,71,72,73,74,75,76,77,78,79,80,81,82,83,84,85,86,87,88,89,90,91,92,93,94,95,96,97,98,99,100,101,102,103,104,105,106,107,108,109,110,111,112,113,114,115,116,117,118,119,120,121,122,123,124,125,126,127,128,129,130,131,132,133,134,135,136,137,138,139,140,141,142,143,144,145,146,147,148,149,150,151,152,153,154,155,156,157,158,159,160,161,162,163,164,165,166,167,168,169,170,171,172,173,174,175,176,177,178,179,180,181,182,183,184,185,186,187,188,189,190,191,192,193,194,195,196,197) have mixed types. Specify dtype option on import or set low_memory=False.\n",
      "  tract_age = pd.read_csv('../Data/BG_Agesex/ACSDT5Y2017.B01001-Data.csv')\n"
     ]
    }
   ],
   "source": [
    "gdf=gpd.read_file('../Data/Shape_files/ga_bg_county.shp')\n",
    "\n",
    "bg_dist=pd.read_csv('../Data/BG_Hosp_Dist.csv')\n",
    "\n",
    "hosp_coord_df = pd.read_csv('../Data/2017ob_hospitals_coords_update.csv', index_col=[0])\n",
    "\n",
    "tract_age = pd.read_csv('../Data/BG_Agesex/ACSDT5Y2017.B01001-Data.csv')\n",
    "\n",
    "race_df=pd.read_csv('../Data/Race_stats.csv')\n",
    "pov_df=pd.read_csv('../Data/Poverty_stats.csv')\n"
   ]
  },
  {
   "cell_type": "markdown",
   "id": "967fda36",
   "metadata": {},
   "source": [
    "### Convert the data to long format (geo-hosp combinations)"
   ]
  },
  {
   "cell_type": "code",
   "execution_count": 37,
   "id": "75720d19",
   "metadata": {},
   "outputs": [],
   "source": [
    "bg_dist_long=pd.melt(bg_dist,id_vars=['County','Geography'],var_name='Hospital',value_name='Distance')\n"
   ]
  },
  {
   "cell_type": "markdown",
   "id": "82b0ce93",
   "metadata": {},
   "source": [
    "### Merge data sources "
   ]
  },
  {
   "cell_type": "code",
   "execution_count": 39,
   "id": "808afc9d",
   "metadata": {},
   "outputs": [],
   "source": [
    "finaldf=gdf.merge(bg_dist_long,how='left',on=['County','Geography'])\n",
    "finaldf=finaldf.merge(hosp_coord_df[['Hospital','Perinatal Level']],on='Hospital',how='left')\n",
    "finaldf=finaldf[finaldf['Perinatal Level'].isin(['1','2','3'])]\n",
    "finaldf=finaldf[finaldf['Perinatal Level']!='Birth Center']"
   ]
  },
  {
   "cell_type": "code",
   "execution_count": 41,
   "id": "34edf0fa",
   "metadata": {},
   "outputs": [],
   "source": [
    "finaldf['Perinatal Level']=finaldf['Perinatal Level'].astype(int)\n",
    "finaldf=finaldf[['Geography','County','Population','Hospital','Distance','Perinatal Level']].drop_duplicates()\n"
   ]
  },
  {
   "cell_type": "markdown",
   "id": "7a031a6c",
   "metadata": {},
   "source": [
    "### Retrieve nearest hospital for each block group"
   ]
  },
  {
   "cell_type": "code",
   "execution_count": 43,
   "id": "8bacf106",
   "metadata": {},
   "outputs": [],
   "source": [
    "idx_min = check.groupby(['County','Geography','Perinatal Level'])['Distance'].idxmin()\n",
    "\n",
    "# Use the index to retrieve corresponding values from other columns\n",
    "min_values = check.loc[idx_min]\n",
    "\n",
    "min_values=min_values.rename(columns={'Hospital':'Org_Min_hospital','Distance':'Org_Min_Distance'})\n",
    "min_values=min_values.drop(columns=['Population'])\n"
   ]
  },
  {
   "cell_type": "markdown",
   "id": "751315a5",
   "metadata": {},
   "source": [
    "### Merging the min_hosp and min_dist columns back to main structure"
   ]
  },
  {
   "cell_type": "code",
   "execution_count": 44,
   "id": "e22b6f74",
   "metadata": {},
   "outputs": [],
   "source": [
    "finaldf=finaldf.merge(min_values,how='left',on=['County','Geography','Perinatal Level'])\n"
   ]
  },
  {
   "cell_type": "markdown",
   "id": "19a2934f",
   "metadata": {},
   "source": [
    "## Race and Poverty data manipulation"
   ]
  },
  {
   "cell_type": "code",
   "execution_count": 58,
   "id": "51c1f3c5",
   "metadata": {},
   "outputs": [],
   "source": [
    "race_df=race_df.merge(tract_age[['GEO_ID','NAME']].drop_duplicates(),how='left',left_on='Geographic Area Names',right_on='NAME')\n",
    "race_df=race_df.merge(gdf[['Geography','Population']],how='left',left_on=['GEO_ID'],right_on='Geography')\n",
    "\n",
    "race_df=race_df.rename(columns={\"Total AmericanIndianORAlaskaNative Female, 18-44\":\"Native\",\"Total BlackorAfricanAmerican Female, 18-44\":\"Black\",\"Total HispanicORlatino Female, 18-44\":\"Hispanic\",\"Total White Female, 18-44\":\"White\",'Total Asian Female, 18-44':'Asian','Total NativeHawaiin&OtherPacificIslander Female, 18-44':'Other'})\n",
    "race_df=race_df[['Geography','Population','Total Female Age 18-44 years','Native','Black','Hispanic','White','Asian','Other']].drop_duplicates()\n",
    "race_df['proportion']=(race_df['Population']/race_df['Total Female Age 18-44 years'])\n",
    "\n",
    "for col in ['Native','Black','Hispanic','White','Asian','Other']:\n",
    "    race_df[col]=race_df[col]*race_df['proportion']\n",
    "    race_df[col]=round(race_df[col],0)\n",
    "    \n",
    "race_df.drop(columns=['Total Female Age 18-44 years','proportion'],inplace=True)\n",
    "race_df[race_df['Other']<0]=0\n"
   ]
  },
  {
   "cell_type": "code",
   "execution_count": 59,
   "id": "fd7d42c5",
   "metadata": {},
   "outputs": [],
   "source": [
    "pov_df=pov_df.merge(tract_age[['GEO_ID','NAME']].drop_duplicates(),how='left',left_on='Geographic Area Names',right_on='NAME')\n",
    "pov_df=pov_df.merge(gdf[['Geography','Population']],how='left',left_on=['GEO_ID'],right_on='Geography')\n",
    "pov_df=pov_df.drop(columns=['Geography_x','GEO_ID','NAME','Geographic Area Names'])\n",
    "\n",
    "pov_df.rename(columns={'Income in the past 12 months below poverty level!!Female!!18 to 44 years':'Below_poverty','Income in the past 12 months at or above poverty level!!Female!!18 to 44 years':'Above_poverty','Geography_y':'Geography'},inplace=True)\n",
    "pov_df['proportion']=(pov_df['Population'])/((pov_df['Below_poverty']+pov_df['Above_poverty']))\n",
    "\n",
    "for col in ['Below_poverty','Above_poverty']:\n",
    "    pov_df[col]=pov_df[col]*pov_df['proportion']\n",
    "    pov_df[col]=round(pov_df[col],0)\n",
    "pov_df.drop(columns=['proportion'],inplace=True)\n"
   ]
  },
  {
   "cell_type": "code",
   "execution_count": null,
   "id": "2f2763b5",
   "metadata": {},
   "outputs": [],
   "source": []
  }
 ],
 "metadata": {
  "kernelspec": {
   "display_name": "Python 3",
   "language": "python",
   "name": "python3"
  },
  "language_info": {
   "codemirror_mode": {
    "name": "ipython",
    "version": 3
   },
   "file_extension": ".py",
   "mimetype": "text/x-python",
   "name": "python",
   "nbconvert_exporter": "python",
   "pygments_lexer": "ipython3",
   "version": "3.8.8"
  }
 },
 "nbformat": 4,
 "nbformat_minor": 5
}
